{
 "cells": [
  {
   "cell_type": "markdown",
   "metadata": {},
   "source": [
    "testOIP.py\n",
    "============"
   ]
  },
  {
   "cell_type": "markdown",
   "metadata": {},
   "source": [
    "    # # -*- coding: utf-8 -*-\n",
    "    \"\"\"\n",
    "    testOIP.py\n",
    "\n",
    "    Revised 2018_07_03\n",
    "\n",
    "    @author: P.N. Leiby\n",
    "    \"\"\"\n"
   ]
  },
  {
   "cell_type": "code",
   "execution_count": 24,
   "metadata": {},
   "outputs": [],
   "source": [
    "import os\n",
    "\n",
    "# Following is not needed if launching program from model project folder\n",
    "# os.chdir(\"d:/\")         # for Windows system at work\n",
    "# # os.chdir(\"/Users/pzl/Documents\")   # for Mac/OSx system\n",
    "# os.chdir(\"papers/2006OilImportPremium/Analysis/OIPpySecurityPremium\")\n",
    "# os.chdir(\"oip_py\")\n"
   ]
  },
  {
   "cell_type": "code",
   "execution_count": 25,
   "metadata": {},
   "outputs": [
    {
     "data": {
      "text/plain": [
       "'/Users/paulleiby/Documents/Papers/2006OilImportPremium/Analysis/oip_py'"
      ]
     },
     "execution_count": 25,
     "metadata": {},
     "output_type": "execute_result"
    }
   ],
   "source": [
    "os.getcwd()"
   ]
  },
  {
   "cell_type": "code",
   "execution_count": 26,
   "metadata": {},
   "outputs": [
    {
     "ename": "ModuleNotFoundError",
     "evalue": "No module named 'matplotlib'",
     "output_type": "error",
     "traceback": [
      "\u001b[0;31m---------------------------------------------------------------------------\u001b[0m",
      "\u001b[0;31mModuleNotFoundError\u001b[0m                       Traceback (most recent call last)",
      "\u001b[0;32m<ipython-input-26-f9b0bf61d632>\u001b[0m in \u001b[0;36m<module>\u001b[0;34m\u001b[0m\n\u001b[1;32m      3\u001b[0m \u001b[0;32mimport\u001b[0m \u001b[0mpprint\u001b[0m\u001b[0;34m\u001b[0m\u001b[0;34m\u001b[0m\u001b[0m\n\u001b[1;32m      4\u001b[0m \u001b[0;31m# import pandas\u001b[0m\u001b[0;34m\u001b[0m\u001b[0;34m\u001b[0m\u001b[0;34m\u001b[0m\u001b[0m\n\u001b[0;32m----> 5\u001b[0;31m \u001b[0;32mimport\u001b[0m \u001b[0mmatplotlib\u001b[0m\u001b[0;34m.\u001b[0m\u001b[0mpyplot\u001b[0m \u001b[0;32mas\u001b[0m \u001b[0mplt\u001b[0m\u001b[0;34m\u001b[0m\u001b[0;34m\u001b[0m\u001b[0m\n\u001b[0m",
      "\u001b[0;31mModuleNotFoundError\u001b[0m: No module named 'matplotlib'"
     ]
    }
   ],
   "source": [
    "# general libraries\n",
    "import numpy as np\n",
    "import pprint\n",
    "# import pandas\n",
    "import matplotlib.pyplot as plt"
   ]
  },
  {
   "cell_type": "code",
   "execution_count": 27,
   "metadata": {},
   "outputs": [],
   "source": [
    "# import problem-specific utility files\n",
    "import OIP\n",
    "import rand_dists_added as rda\n",
    "import sheet_utils as su\n",
    "import utilities"
   ]
  },
  {
   "cell_type": "code",
   "execution_count": 28,
   "metadata": {},
   "outputs": [],
   "source": [
    "model_workbook_filename = \"Oil_Import_Premium_2005_risk_v21main_2011Dev_v14.xls\"\n",
    "model_sheet_name = 'OilImportPremium2005'"
   ]
  },
  {
   "cell_type": "code",
   "execution_count": 29,
   "metadata": {},
   "outputs": [],
   "source": [
    "## # Test functions for generation of discrete random distribution\n",
    "## vals = [1, 2, 3]\n",
    "## probs = [0.2,0.7,0.1]\n",
    "## \n",
    "## rv = rda.risk_discrete(vals,probs,100000)\n",
    "## currplot = plt.hist(rv,3)\n",
    "## plt.hist(rv,7,label=\"discrete dist\")\n",
    "## plt.title(\"Experimenting with Distributions\")\n",
    "## plt.ylabel(\"Count\")\n",
    "## \n",
    "## # testing cumulative dist\n",
    "## rv = rda.risk_cumul(0,6,[0.1,0.5,0.9],[0.25,1,4],10)\n",
    "## \n",
    "## kl = OIP.alt_parameter_casesparameter_probabilities.keys()\n",
    "## for k in kl:\n",
    "##     OIP.parameter_probabilities[k].append(OIP.alt_parameter_cases[k][:-1])\n",
    "\n",
    "# Idea: See Structured Arrays in numpy:\n",
    "#   http://docs.scipy.org/doc/numpy/user/basics.rec.html\n",
    "# Alterative Idea: Use dataframe object from pandas\n",
    "\n"
   ]
  },
  {
   "cell_type": "code",
   "execution_count": 23,
   "metadata": {
    "scrolled": true
   },
   "outputs": [
    {
     "ename": "SyntaxError",
     "evalue": "invalid syntax (<ipython-input-23-265a23fae61d>, line 38)",
     "output_type": "error",
     "traceback": [
      "\u001b[0;36m  File \u001b[0;32m\"<ipython-input-23-265a23fae61d>\"\u001b[0;36m, line \u001b[0;32m38\u001b[0m\n\u001b[0;31m    print \"%30s samplesz: %7d mean: %8.5f ratio: %8.5f\" % (str(k)[:30], len(samples[k]), samples[k].mean(), mratio)\u001b[0m\n\u001b[0m                                                      ^\u001b[0m\n\u001b[0;31mSyntaxError\u001b[0m\u001b[0;31m:\u001b[0m invalid syntax\n"
     ]
    }
   ],
   "source": [
    "def gen_test_means(rvDict, samplesz=10, debug=False):\n",
    "    \"\"\"generate random sample for random variables in dictionary 'OIP.parameter_probabilities'\n",
    "    \n",
    "    rvDict -- dictionary of random variables, each entry giving name and list\n",
    "    samplesz -- number of samples for each r.v. (default = 10)\n",
    "    debug -- boolean if debug printouts wanted (default = False)\n",
    "    return dictionary with samples for each random variable\n",
    "    \"\"\"\n",
    "    # get keys to random parameters\n",
    "    kl = rvDict.keys()\n",
    "    \n",
    "    # for k in kl:    # pick up probabilities and append alternative values (dropping right columns with mean and a given sample)\n",
    "    #     OIP.parameter_probabilities[k].append(OIP.alt_parameter_cases[k][:-2])\n",
    "    samples = {}\n",
    "    for k in kl:\n",
    "        # pick up probabilities and append alternative values (dropping right columns with mean and a given sample)\n",
    "        pp = rvDict[k]\n",
    "        xv = OIP.alt_parameter_cases[k][:-2]\n",
    "        if pp[0] == \"risk_discrete\":\n",
    "            samples[k] = rda.risk_function_dict[pp[0]](xv,pp[1],count=samplesz)\n",
    "        elif (pp[0] == \"risk_triangular\" or pp[0] == \"risk_rtriangular\"):\n",
    "            samples[k] = rda.risk_function_dict[pp[0]](*xv,count=samplesz)\n",
    "        elif pp[0] == \"risk_cumul\":\n",
    "            xv.sort()\n",
    "            samples[k] = rda.risk_function_dict[pp[0]](pp[1][0],pp[1][1],pp[1][2],xv,count=samplesz)\n",
    "        else:\n",
    "            samples[k] = np.zeros(samplesz)*np.NaN\n",
    "        if debug:\n",
    "            expected_mean = OIP.alt_parameter_cases[k][3]\n",
    "            if (expected_mean==0.0):\n",
    "                if (samples[k].mean() ==0.0):\n",
    "                    mratio = 1.0\n",
    "                else:\n",
    "                    mratio = np.NaN\n",
    "            else:\n",
    "                mratio = samples[k].mean()/expected_mean\n",
    "            # print(k, \"samplesz=\", len(samples[k]), \"mean:\",samples[k].mean(), \"ratio:\",mratio)\n",
    "            print(\"%30s samplesz: %7d mean: %8.5f ratio: %8.5f\" % (str(k)[:30], len(samples[k]), samples[k].mean(), mratio))\n",
    "    # Special treatment of this one element (ugly)\n",
    "    samples[\"Elas:Other NonOPEC Demand\"] = - samples[\"Elas:Other NonOPEC Supply\"]\n",
    "    return(samples)\n"
   ]
  },
  {
   "cell_type": "code",
   "execution_count": 14,
   "metadata": {},
   "outputs": [],
   "source": [
    "def linkto_workbook():\n",
    "    # os.chdir(r\"\\Papers\\2009LCFSTradableCredits\\Analysis\\EnergySecurity\\OIP_py\")\n",
    "    wb_name = model_workbook_filename\n",
    "    book = su.xlrd.open_workbook(wb_name)\n",
    "    return(book)\n",
    "\n"
   ]
  },
  {
   "cell_type": "code",
   "execution_count": 15,
   "metadata": {},
   "outputs": [],
   "source": [
    "def read_OIPRandomFix(book):\n",
    "    # Warning: no error checking on read\n",
    "    wbdata = su.read_openbook_namedsheet_range(book, sheetname=model_sheet_name, startrow=0,startcol=su.colname_to_num(cn='A'),endrow=72,endcol=su.colname_to_num(cn='T'))\n",
    "    #wbdata = sheet_utils.read_sheet_range(filename=wb_name,sheetnum=2)\n",
    "    KeyParameterDescriptors = utilities.column_from2DList(wbdata,0)[4:29]\n",
    "    # print(KeyParameterDescriptors)\n",
    "    KeyParameterRandomFix = utilities.column_from2DList(wbdata,su.colname_to_num(cn='S'))[4:29]\n",
    "    # get the solution:\n",
    "    KeyParameterDescriptors.append(wbdata[65][0])\n",
    "    KeyParameterRandomFix.append(wbdata[65][4])\n",
    "    kp_rfix = {}\n",
    "    kp_pairs = zip(KeyParameterDescriptors,KeyParameterRandomFix)\n",
    "    for kp,kf in kp_pairs:\n",
    "        kp_rfix[kp] = kf\n",
    "    return(kp_rfix)\n"
   ]
  },
  {
   "cell_type": "code",
   "execution_count": 16,
   "metadata": {},
   "outputs": [],
   "source": [
    "def read_OIPswitches(book):\n",
    "    # Warning: no error checking on read\n",
    "    wbdata = su.read_openbook_namedsheet_range(book, sheetname=model_sheet_name, startrow=0,startcol=su.colname_to_num(cn='A'),endrow=10,endcol=su.colname_to_num(cn='H'))\n",
    "    switches = [int(round(wbdata[0][su.colname_to_num(cn='G')])),    # 2010 Switch_AEOVersion\n",
    "                int(round(wbdata[2][su.colname_to_num(cn='G')])),    # 2015,    # Switch_Year\n",
    "                wbdata[3][su.colname_to_num(cn='G')],    # 1.0,     # Switch_DomDem_ElasMult\n",
    "                wbdata[4][su.colname_to_num(cn='G')]]    # 1.0     # Switch_ConstrOECDEurDemand      return(kp_rfix)\n",
    "    return(switches)\n",
    "    \n"
   ]
  },
  {
   "cell_type": "code",
   "execution_count": 18,
   "metadata": {},
   "outputs": [],
   "source": [
    "def reload_OIPRandomFix():\n",
    "    random_fix_index=4\n",
    "    bk = linkto_workbook()\n",
    "    kprf = read_OIPRandomFix(bk)\n",
    "    for k in kprf:\n",
    "        if k in OIP.alt_parameter_cases:\n",
    "            OIP.alt_parameter_cases[k][random_fix_index]= kprf[k]\n",
    "        else:\n",
    "            print(\"Skipping: \",k)\n",
    "    OIP.OIP_default_switches = read_OIPswitches(bk)\n",
    "    print(\"OIP switches: \",OIP.OIP_default_switches)\n",
    "    # solve the case and compare\n",
    "    OIP_solution_for_pi = OIP.test_mult_cases(num_samples = -1)\n",
    "    print(OIP_solution_for_pi)\n",
    "    if (kprf[\"Total\"] ==0.0):\n",
    "        if (OIP_solution_for_pi[0] ==0.0):\n",
    "            mratio = 1.0    # indicate match\n",
    "        else:\n",
    "            mratio = np.NaN\n",
    "    else:\n",
    "        mratio = OIP_solution_for_pi[0]/kprf[\"Total\"]\n",
    "        # print(k, \"samplesz=\", len(samples[k]), \"mean:\",samples[k].mean(), \"ratio:\",mratio)\n",
    "        print(\"%30s samplesz: %7d value: %8.5f ratio: %8.5f\" % (\"Total pi\", 1, OIP_solution_for_pi[0], mratio))\n",
    "    return(kprf)\n",
    "    \n"
   ]
  },
  {
   "cell_type": "code",
   "execution_count": 19,
   "metadata": {},
   "outputs": [],
   "source": [
    "def read_OIP_market_data(book):\n",
    "    \"\"\" Read oil market data (corresponding to some AEO version) from OIP worksheet.\n",
    "\n",
    "    book -- opened workbook object. Warning: no error checking on read.\\n\n",
    "    return dictionary of data series (each a numpy array)\n",
    "    \"\"\"\n",
    "    wbdata = su.read_openbook_namedsheet_range(book, sheetname='AEOData',startrow=556,startcol=su.colname_to_num(cn='B'),endrow=577,endcol=su.colname_to_num(cn='AI'))\n",
    "    market_data = {}\n",
    "    for r in wbdata:\n",
    "        market_data[r[0]] = np.array(r[2:])    # drop blank col and 2005 col w/ incomplete data\n",
    "    return(market_data)\n"
   ]
  },
  {
   "cell_type": "code",
   "execution_count": 20,
   "metadata": {},
   "outputs": [],
   "source": [
    "def set_market_data_for_year(md,year=2015):\n",
    "    for n in range(len(md[\"Year\"])):\n",
    "        if int(round(md[\"Year\"][n])) == year:\n",
    "            break\n",
    "    # print(\"Year %4d is element %3d in md.\" % (year,n))\n",
    "    curr_mkt_parameter_cases = {}\n",
    "    for k in OIP.oilmkt_parameter_cases:\n",
    "        if k not in md:\n",
    "            print(\"Missing market data for: \",k)\n",
    "        else:\n",
    "            curr_mkt_parameter_cases[k] = md[k][n]\n",
    "            OIP.oilmkt_parameter_cases[k][1] = md[k][n]    # WARNING: sets only the Midcase values for AEO\n",
    "    return(curr_mkt_parameter_cases)\n",
    "\n"
   ]
  },
  {
   "cell_type": "code",
   "execution_count": 21,
   "metadata": {},
   "outputs": [],
   "source": [
    "pi_component_names = [\"pi_tot\",               \"pi_m\",               \"pi_di\",                    \"pi_dm\",              \"pi_d\",\n",
    "                     \"E_MCdis_vul_monops_k\",  \"E_MCdis_vul_dGDP_k\", \"E_MCdis_vul_dDWL_k\",       \"E_MCdis_vul_dFC_k\",  \"E_MCdis_vul_deGDP_k\",\n",
    "                     \"E_MCdis_size_dSSdDWL_k\",\"E_MCdis_size_dFC_k\", \"E_MCdis_size_dGNPdDelP_k\", \"MCmonopsony_k\"]\n"
   ]
  },
  {
   "cell_type": "code",
   "execution_count": 22,
   "metadata": {},
   "outputs": [],
   "source": [
    "def simulate_OIP(num_samples = 1):\n",
    "    global alt_parameter_cases,disrSizes,dirsProbs, OIP_default_switches\n",
    "    global pi_component_names\n",
    "    num_tracked_vars = len(pi_component_names)\n",
    "    switches = OIP.OIP_default_switches\n",
    "    if num_samples == -1:    # debug - use default values\n",
    "        sample_results = np.array(OIP.eval_one_case(OIP.alt_parameter_cases,OIP.disrSizes,OIP.disrProbs,switches,debug=True))\n",
    "    else:\n",
    "        sam = gen_test_means(rvDict=OIP.parameter_probabilities, samplesz=num_samples)    # random values for random parameters\n",
    "        random_fix_index=4\n",
    "        sample_results = np.ones([num_samples,num_tracked_vars])\n",
    "        for n in range(num_samples):\n",
    "            for k in sam:    # loop over parameters in dictionary of sampled parameters\n",
    "                if k in OIP.alt_parameter_cases:\n",
    "                    OIP.alt_parameter_cases[k][random_fix_index]= sam[k][n]\n",
    "                else:\n",
    "                    print(\"Skipping: \",k)\n",
    "            # switches[2] = 1.0+np.random.normal(0.0,0.25) # Switch_DomDem_ElasMult \n",
    "            sample_results[n]= np.array(OIP.eval_one_case(OIP.alt_parameter_cases,OIP.disrSizes,OIP.disrProbs,switches)[:14])    # gather all returned values, truncating if necessary\n",
    "            if np.isnan(sample_results[n][0]):\n",
    "                print(OIP.eval_one_case(OIP.alt_parameter_cases,OIP.disrSizes,OIP.disrProbs,switches))\n",
    "                pprint.pprint(switches)\n",
    "                for k in OIP.alt_parameter_cases:\n",
    "                    if not k== \"KEY_PARAMETERS_ASSUMPTIONS\":\n",
    "                        print(\"%30s  %8.5f\" % (str(k)[:30], OIP.alt_parameter_cases[k][random_fix_index]))\n",
    "            if n % 1000 == 0: print(\"  iteration \",n)\n",
    "    return sample_results\n"
   ]
  },
  {
   "cell_type": "code",
   "execution_count": 23,
   "metadata": {},
   "outputs": [],
   "source": [
    "from scipy import stats   \n",
    "def result_stats(results, component_names, debug = False):\n",
    "    \"\"\"return a numpy array of statistics for each variable in component names\n",
    "    \n",
    "    results -- array of random outcomes for each variable in component_names\n",
    "    component_names -- list of random variate names\n",
    "    debug -- boolean indicating if debugging info to be printed (default = False)\n",
    "    \"\"\"\n",
    "    numstats = 6    # number of statistics tracked\n",
    "    numvars = len(component_names)\n",
    "    ystats = np.zeros([numstats,numvars])\n",
    "    ystats[0] = np.mean(results,axis=0)    # \"Mean:            \"  axis is dimension across which statistic is calculated (rows)\n",
    "    ystats[1] = np.std(results,axis=0)     # \"Stddev           \"\n",
    "    ystats[2] = np.min(results,axis=0)     # \"Min:             \"\n",
    "    for n in range(numvars):\n",
    "        ystats[3,n] = stats.scoreatpercentile(results[:,n],5.0)     # \"5th percentile:  \"\n",
    "        ystats[4,n] = stats.scoreatpercentile(results[:,n],95.0)    # \"95th percentile:  \"\n",
    "    ystats[5] = np.max(results,0)     # \"Min:             \"\n",
    "    \n",
    "    if debug:\n",
    "        print(\"Mean:            \", (np.mean(results,0)))    # these functions work along specified axis for all variables\n",
    "        print(\"stddev:          \", (np.std(results,0)))\n",
    "        print(\"Min:             \", (np.min(results,0)))\n",
    "        print(\"5th percentile:  \", (stats.scoreatpercentile(results[:,0],5.0)))\n",
    "        print(\"95th percentile: \", (stats.scoreatpercentile(results[:,0],95.0)))\n",
    "        print(\"Max:             \", (np.max(results,0)))\n",
    "        plt.plot(ystats.transpose())\n",
    "    return(ystats)\n"
   ]
  },
  {
   "cell_type": "code",
   "execution_count": 24,
   "metadata": {},
   "outputs": [],
   "source": [
    "def sim_OIP_over_years(num_samples=1,yearlist=[]):\n",
    "    \"\"\"Execute OIP model for samplesize \"num_samples\", across years specied in \"yearlist\"\n",
    "       Returns\n",
    "         \"yrly_rslts\", a dictionary of simulation results for each year.\n",
    "    \"\"\"\n",
    "    bk = linkto_workbook()\n",
    "    md = read_OIP_market_data(bk)\n",
    "    yrly_rslts = {}\n",
    "    for year in yearlist:\n",
    "        set_market_data_for_year(md,year)\n",
    "        print(\"Starting year: %5d, base oil price %8.3f\" % (year, OIP.oilmkt_parameter_cases[\"import oil price\"][1]))\n",
    "        yrly_rslts[year]= simulate_OIP(num_samples)\n",
    "    return(yrly_rslts)\n"
   ]
  },
  {
   "cell_type": "code",
   "execution_count": 25,
   "metadata": {},
   "outputs": [],
   "source": [
    "def gen_yearly_result_stats(yrly_rslts, component_names):\n",
    "    \"\"\"Generate statistics by year from a \"yrly_rslts\", a dictionary of simulation results by year\n",
    "       Returns\n",
    "         \"yearly_stats\" dictionary of summary statistics for each year, and\n",
    "    \"\"\"\n",
    "    yrly_stats = {}\n",
    "    for year in yrly_rslts:\n",
    "        yrly_stats[year]= result_stats(yrly_rslts[year],component_names)\n",
    "    return(yrly_stats)\n",
    "        \n"
   ]
  },
  {
   "cell_type": "code",
   "execution_count": 26,
   "metadata": {},
   "outputs": [],
   "source": [
    "def run_OIP(num_samples=1,yearstep=5):\n",
    "    \"\"\"Execute OIP model for samplesize \"num_samples\", across full time horizon with time step \"yearstep\"\n",
    "\n",
    "       num_samples -- number of samples to run in Monte Carlo process (default=1)\n",
    "       yearstep -- interval between the years for which simulations are to be done (default=5)\n",
    "       Returns\n",
    "         \"yearly_stats\" dictionary of summary statistics for each year, and\n",
    "         \"yearly_results\" dictionary of simulation results for each year.\n",
    "    \"\"\"\n",
    "    global pi_component_names\n",
    "    years = range(2010,2036,yearstep)    \n",
    "    yearly_rslts = sim_OIP_over_years(num_samples,years)\n",
    "    yearly_stats = gen_yearly_result_stats(yearly_rslts,pi_component_names)\n",
    "    return(yearly_stats,yearly_rslts)\n"
   ]
  },
  {
   "cell_type": "code",
   "execution_count": 27,
   "metadata": {},
   "outputs": [],
   "source": [
    "import pickle\n",
    "def save_results(full_results):\n",
    "    outfileptr = open(\"results1.pkl\",\"wb\")\n",
    "    pickle.dump(full_results,outfileptr)\n",
    "    outfileptr.close()\n",
    "    \n",
    "def read_results(filename = \"\"):\n",
    "    pkl_file_ptr = open(filename,\"rb\")\n",
    "    return(pickle.load(pkl_file_ptr))\n",
    "    "
   ]
  },
  {
   "cell_type": "code",
   "execution_count": null,
   "metadata": {},
   "outputs": [],
   "source": [
    "def dict_to_array(d):\n",
    "    ar = np.zeros([len(d.keys()),np.shape(d.keys()[0])])\n",
    "    print(\"Key  \"+d.keys())\n",
    "    print(\"Key length \"+str(len(d.keys())))\n",
    "    for i in range(len(d.keys())):\n",
    "        ar[i] = d[d.keys()[i]]\n",
    "        # ???Where was this going?\n",
    "        # Will not work if dictionary elements are anything other than equal-length vectors\n",
    "\n",
    "# FIX/IMPROVE: (20151205)\n",
    "# Better to do all of the following with dataframes, and\n",
    "# library routines to write (melted/long-form) dataframes to csv\n",
    "        \n",
    "#\"\"\"\n",
    "#    writer = csv.writer(open(\"OIPV014_BaseStatsR2.csv\",\"wb\"))\n",
    "#    for s in range(6):\n",
    "#        writer.writerow(rslts[1].keys())\n",
    "#        for p in range(len(pi_component_names)):\n",
    "#            writer.writerow(rsltstats[:,s,p])\n",
    "#    writer = None\n",
    "#\"\"\""
   ]
  },
  {
   "cell_type": "code",
   "execution_count": 28,
   "metadata": {},
   "outputs": [],
   "source": [
    "import csv\n",
    "\n",
    "def save_stats_to_CSV(rslts,filename=\"\"):\n",
    "    \"\"\"write each row of the results data structure to specified filename\n",
    "\n",
    "    Returns nothing\n",
    "    Warning: no error-checking of I/O\n",
    "    \"\"\"\n",
    "    if filename==\"\":\n",
    "        filename = \"OIPV014_BaseStats.csv\"\n",
    "    writer = csv.writer(open(filename,\"wb\"))\n",
    "    for y in rslts[0]: # loop over years\n",
    "        writer.writerow(y)\n",
    "        writer.writerows(rslts[0][y])\n",
    "        \n"
   ]
  },
  {
   "cell_type": "code",
   "execution_count": 31,
   "metadata": {},
   "outputs": [
    {
     "name": "stdout",
     "output_type": "stream",
     "text": [
      "Starting year:  2010, base oil price   61.407\n",
      "  iteration  0\n",
      "  iteration  1000\n",
      "  iteration  2000\n",
      "  iteration  3000\n",
      "  iteration  4000\n",
      "  iteration  5000\n",
      "  iteration  6000\n",
      "  iteration  7000\n",
      "  iteration  8000\n",
      "  iteration  9000\n",
      "Starting year:  2015, base oil price   79.162\n",
      "  iteration  0\n",
      "  iteration  1000\n",
      "  iteration  2000\n",
      "  iteration  3000\n",
      "  iteration  4000\n",
      "  iteration  5000\n",
      "  iteration  6000\n",
      "  iteration  7000\n",
      "  iteration  8000\n",
      "  iteration  9000\n",
      "Starting year:  2020, base oil price   89.418\n",
      "  iteration  0\n",
      "  iteration  1000\n",
      "  iteration  2000\n",
      "  iteration  3000\n",
      "  iteration  4000\n",
      "  iteration  5000\n",
      "  iteration  6000\n",
      "  iteration  7000\n",
      "  iteration  8000\n",
      "  iteration  9000\n",
      "Starting year:  2025, base oil price   95.204\n",
      "  iteration  0\n",
      "  iteration  1000\n",
      "  iteration  2000\n",
      "  iteration  3000\n",
      "  iteration  4000\n",
      "  iteration  5000\n",
      "  iteration  6000\n",
      "  iteration  7000\n",
      "  iteration  8000\n",
      "  iteration  9000\n",
      "Starting year:  2030, base oil price  101.589\n",
      "  iteration  0\n",
      "  iteration  1000\n",
      "  iteration  2000\n",
      "  iteration  3000\n",
      "  iteration  4000\n",
      "  iteration  5000\n",
      "  iteration  6000\n",
      "  iteration  7000\n",
      "  iteration  8000\n",
      "  iteration  9000\n",
      "Starting year:  2035, base oil price  110.588\n",
      "  iteration  0\n",
      "  iteration  1000\n",
      "  iteration  2000\n",
      "  iteration  3000\n",
      "  iteration  4000\n",
      "  iteration  5000\n",
      "  iteration  6000\n",
      "  iteration  7000\n",
      "  iteration  8000\n",
      "  iteration  9000\n"
     ]
    }
   ],
   "source": [
    "# Execution area\n",
    "annual_stats,annual_rslts = run_OIP(num_samples=10000,yearstep=5)\n"
   ]
  },
  {
   "cell_type": "code",
   "execution_count": 32,
   "metadata": {},
   "outputs": [
    {
     "data": {
      "text/plain": [
       "1"
      ]
     },
     "execution_count": 32,
     "metadata": {},
     "output_type": "execute_result"
    }
   ],
   "source": [
    "size(annual_rslts)"
   ]
  }
 ],
 "metadata": {
  "anaconda-cloud": {},
  "interpreter": {
   "hash": "beb4f305451b4835b36a63cb1c75e625a7251cf8d76b65be2f5856eee68cb551"
  },
  "kernelspec": {
   "display_name": "Python 3.7.6 64-bit (conda)",
   "language": "python",
   "name": "python37664bitcondaf54d3a175349431dac2ddd5e671763be"
  },
  "language_info": {
   "codemirror_mode": {
    "name": "ipython",
    "version": 3
   },
   "file_extension": ".py",
   "mimetype": "text/x-python",
   "name": "python",
   "nbconvert_exporter": "python",
   "pygments_lexer": "ipython3",
   "version": "3.7.6"
  }
 },
 "nbformat": 4,
 "nbformat_minor": 2
}
